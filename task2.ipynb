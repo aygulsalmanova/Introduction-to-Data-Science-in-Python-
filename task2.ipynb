{
 "cells": [
  {
   "cell_type": "markdown",
   "metadata": {
    "deletable": false,
    "editable": false,
    "nbgrader": {
     "checksum": "48770f8b5f5d3062d3badd51fcafc401",
     "grade": false,
     "grade_id": "cell-a6c4f74309fc2379",
     "locked": true,
     "schema_version": 1,
     "solution": false
    },
    "run_control": {
     "frozen": true
    }
   },
   "source": [
    "# Assignment 2\n",
    "## Description\n",
    "In this assignment you must read in a file of metropolitan regions and associated sports teams from [assets/wikipedia_data.html](assets/wikipedia_data.html) and answer some questions about each metropolitan region. Each of these regions may have one or more teams from the \"Big 4\": NFL (football, in [assets/nfl.csv](assets/nfl.csv)), MLB (baseball, in [assets/mlb.csv](assets/mlb.csv)), NBA (basketball, in [assets/nba.csv](assets/nba.csv) or NHL (hockey, in [assets/nhl.csv](assets/nhl.csv)). Please keep in mind that all questions are from the perspective of the metropolitan region, and that this file is the \"source of authority\" for the location of a given sports team. Thus teams which are commonly known by a different area (e.g. \"Oakland Raiders\") need to be mapped into the metropolitan region given (e.g. San Francisco Bay Area). This will require some human data understanding outside of the data you've been given (e.g. you will have to hand-code some names, and might need to google to find out where teams are)!\n",
    "\n",
    "For each sport I would like you to answer the question: **what is the win/loss ratio's correlation with the population of the city it is in?** Win/Loss ratio refers to the number of wins over the number of wins plus the number of losses. Remember that to calculate the correlation with [`pearsonr`](https://docs.scipy.org/doc/scipy/reference/generated/scipy.stats.pearsonr.html), so you are going to send in two ordered lists of values, the populations from the wikipedia_data.html file and the win/loss ratio for a given sport in the same order. Average the win/loss ratios for those cities which have multiple teams of a single sport. Each sport is worth an equal amount in this assignment (20%\\*4=80%) of the grade for this assignment. You should only use data **from year 2018** for your analysis -- this is important!\n",
    "\n",
    "## Notes\n",
    "\n",
    "1. Do not include data about the MLS or CFL in any of the work you are doing, we're only interested in the Big 4 in this assignment.\n",
    "2. I highly suggest that you first tackle the four correlation questions in order, as they are all similar and worth the majority of grades for this assignment. This is by design!\n",
    "3. It's fair game to talk with peers about high level strategy as well as the relationship between metropolitan areas and sports teams. However, do not post code solving aspects of the assignment (including such as dictionaries mapping areas to teams, or regexes which will clean up names).\n",
    "4. There may be more teams than the assert statements test, remember to collapse multiple teams in one city into a single value!"
   ]
  },
  {
   "cell_type": "markdown",
   "metadata": {
    "deletable": false,
    "editable": false,
    "nbgrader": {
     "checksum": "369ff9ecf0ee04640574205cbc697f94",
     "grade": false,
     "grade_id": "cell-712b2b5da63d4505",
     "locked": true,
     "schema_version": 1,
     "solution": false
    },
    "run_control": {
     "frozen": true
    }
   },
   "source": [
    "## Question 1\n",
    "For this question, calculate the win/loss ratio's correlation with the population of the city it is in for the **NHL** using **2018** data."
   ]
  },
  {
   "cell_type": "code",
   "execution_count": 1,
   "metadata": {},
   "outputs": [],
   "source": [
    "import pandas as pd\n",
    "import numpy as np\n",
    "import scipy.stats as stats\n",
    "import re"
   ]
  },
  {
   "cell_type": "code",
   "execution_count": null,
   "metadata": {},
   "outputs": [],
   "source": []
  },
  {
   "cell_type": "code",
   "execution_count": 1,
   "metadata": {
    "nbgrader": {
     "checksum": "1cac4803b02502929f5b1612d48db2b5",
     "grade": false,
     "grade_id": "cell-69b16e4386e58030",
     "locked": false,
     "schema_version": 1,
     "solution": true
    }
   },
   "outputs": [
    {
     "data": {
      "text/plain": [
       "(0.012486162921209909, 0.9497182859911791)"
      ]
     },
     "execution_count": 1,
     "metadata": {},
     "output_type": "execute_result"
    }
   ],
   "source": [
    "import pandas as pd\n",
    "import numpy as np\n",
    "import scipy.stats as stats\n",
    "import re\n",
    "\n",
    "nhl_df=pd.read_csv(\"assets/nhl.csv\")\n",
    "cities=pd.read_html(\"assets/wikipedia_data.html\")[1]\n",
    "cities=cities.iloc[:-1,[0,3,5,6,7,8]]\n",
    "\n",
    "def nhl_correlation(): \n",
    "    # YOUR CODE HERE\n",
    "    cities[\"NHL\"]=cities[\"NHL\"].str.replace(r\"([A-Z])\",r\" \\1\",regex=True)\n",
    "    cities[\"NHL\"]=cities[\"NHL\"].str.replace(r\"\\[.+\\]\",\"\",regex=True)\n",
    "    citie_nhl=cities[\"NHL\"].str.split().explode()\n",
    "    \n",
    "    citie_nhl=citie_nhl.to_frame(name=\"namenhl\")\n",
    "    citie_nhl=citie_nhl.merge(cities[[\"Metropolitan area\",\"Population (2016 est.)[8]\"]],left_index=True, right_index=True)\n",
    "    nhl_wd=nhl_df[nhl_df[\"team\"]!=nhl_df[\"GP\"]]\n",
    "    nhl_wd=nhl_wd[nhl_wd[\"year\"]==2018]\n",
    "\n",
    "    nhl_wd[\"W\"] = nhl_wd[\"W\"].astype(int)\n",
    "    nhl_wd[\"L\"] = nhl_wd[\"L\"].astype(int)\n",
    "    nhl_wd[\"ratio_nhl\"]=nhl_wd[\"W\"]/(nhl_wd[\"L\"]+nhl_wd[\"W\"])\n",
    "\n",
    "    nhl_wd[\"team\"]=nhl_wd[\"team\"].str.replace('*', '',regex=True)\n",
    "    nhl_wd[\"namenhl\"]=nhl_wd[\"team\"].str.split().str[-1]\n",
    "    nhl_wd=nhl_wd.merge(citie_nhl,on=\"namenhl\",how=\"left\")\n",
    "    nhl_wd=nhl_wd.sort_values(\"Metropolitan area\")\n",
    "    nhl_wd[\"Population\"]=nhl_wd[\"Population (2016 est.)[8]\"].astype(int)\n",
    "    grouped_nhl=nhl_wd.groupby([\"Metropolitan area\"])[\"ratio_nhl\"].mean()\n",
    "    grouped_nhl=grouped_nhl.to_frame()\n",
    "    grouped_nhl=grouped_nhl.merge(nhl_wd[[\"Population\",\"Metropolitan area\"]],on=\"Metropolitan area\",how=\"left\")\n",
    "    grouped_nhl=grouped_nhl.drop_duplicates(subset=\"Metropolitan area\")\n",
    "    #raise NotImplementedError()\n",
    "    \n",
    "    population_by_region = grouped_nhl[\"Population\"] # pass in metropolitan area population from cities\n",
    "    win_loss_by_region = grouped_nhl[\"ratio_nhl\"] # pass in win/loss ratio from nhl_df in the same order as cities[\"Metropolitan area\"]\n",
    "\n",
    "    assert len(population_by_region) == len(win_loss_by_region), \"Q1: Your lists must be the same length\"\n",
    "    assert len(population_by_region) == 28, \"Q1: There should be 28 teams being analysed for NHL\"\n",
    "    \n",
    "    return stats.pearsonr(population_by_region, win_loss_by_region)\n",
    "nhl_correlation()"
   ]
  },
  {
   "cell_type": "code",
   "execution_count": null,
   "metadata": {},
   "outputs": [],
   "source": [
    "cities"
   ]
  },
  {
   "cell_type": "code",
   "execution_count": null,
   "metadata": {},
   "outputs": [],
   "source": [
    "# Result like that\n",
    "(0.012486162921209881, 0.9497182859911791)"
   ]
  },
  {
   "cell_type": "markdown",
   "metadata": {
    "nbgrader": {
     "checksum": "988912cae4968d81473f46d783e79c16",
     "grade": false,
     "grade_id": "cell-cb964e690298b71d",
     "locked": true,
     "schema_version": 1,
     "solution": false
    }
   },
   "source": [
    "## Question 2\n",
    "For this question, calculate the win/loss ratio's correlation with the population of the city it is in for the **NBA** using **2018** data."
   ]
  },
  {
   "cell_type": "code",
   "execution_count": 2,
   "metadata": {
    "nbgrader": {
     "checksum": "9394222aafc8ccab0a228098ba0d6010",
     "grade": false,
     "grade_id": "cell-5a5f21279e3d3572",
     "locked": false,
     "schema_version": 1,
     "solution": true
    }
   },
   "outputs": [
    {
     "data": {
      "text/plain": [
       "(-0.17657160252844614, 0.36874741604463)"
      ]
     },
     "execution_count": 2,
     "metadata": {},
     "output_type": "execute_result"
    }
   ],
   "source": [
    "import pandas as pd\n",
    "import numpy as np\n",
    "import scipy.stats as stats\n",
    "import re\n",
    "\n",
    "nba=pd.read_csv(\"assets/nba.csv\")\n",
    "cities=pd.read_html(\"assets/wikipedia_data.html\")[1]\n",
    "cities=cities.iloc[:-1,[0,3,5,6,7,8]]\n",
    "\n",
    "def nba_correlation():\n",
    "    # YOUR CODE HERE\n",
    "    cities[\"NBA\"]=cities[\"NBA\"].str.replace(r\"([A-Z])\",r\" \\1\",regex=True)\n",
    "    cities[\"NBA\"]=cities[\"NBA\"].str.replace(r\"\\[.+\\]\",\"\",regex=True)\n",
    "    citie=cities[\"NBA\"].str.split().explode()\n",
    "    citie=citie.to_frame(name=\"nba_team\")\n",
    "    citie=citie.merge(cities[[\"Metropolitan area\",\"Population (2016 est.)[8]\"]],left_index=True, right_index=True)\n",
    "    nba_wd=nba[nba[\"team\"]!=nba[\"GB\"]]\n",
    "    nba_wd=nba_wd[nba_wd[\"year\"]==2018]\n",
    "    nba_wd[\"W\"] = nba_wd[\"W\"].astype(int)\n",
    "    nba_wd[\"L\"] = nba_wd[\"L\"].astype(int)\n",
    "    nba_wd[\"ratio_nba\"]=nba_wd[\"W\"]/(nba_wd[\"L\"]+nba_wd[\"W\"])\n",
    "    nba_wd[\"team\"]=nba_wd[\"team\"].str.replace('*', '',regex=True)\n",
    "    nba_wd[\"team\"]=nba_wd[\"team\"].str.replace(r\"\\(.*\\)\", \"\",regex=True)\n",
    "    nba_wd[\"nba_team\"]=nba_wd[\"team\"].str.split().str[-1]\n",
    "    nba_wd=nba_wd.merge(citie,on=\"nba_team\",how=\"left\")\n",
    "\n",
    "    nba_wd[\"Population\"]=nba_wd[\"Population (2016 est.)[8]\"].astype(float)\n",
    "    grouped_nba=nba_wd.groupby([\"Metropolitan area\"])[\"ratio_nba\"].mean()\n",
    "    grouped_nba=grouped_nba.to_frame()\n",
    "    grouped_nba=grouped_nba.merge(nba_wd[[\"Population\",\"Metropolitan area\"]],on=\"Metropolitan area\",how=\"left\")\n",
    "    grouped_nba=grouped_nba.drop_duplicates(subset=\"Metropolitan area\")\n",
    "    #raise NotImplementedError()\n",
    "    \n",
    "    population_by_region = grouped_nba[\"Population\"] # pass in metropolitan area population from cities\n",
    "    win_loss_by_region =   grouped_nba[\"ratio_nba\"] # pass in win/loss ratio from nba_df in the same order as cities[\"Metropolitan area\"]\n",
    "\n",
    "    assert len(population_by_region) == len(win_loss_by_region), \"Q2: Your lists must be the same length\"\n",
    "    assert len(population_by_region) == 28, \"Q2: There should be 28 teams being analysed for NBA\"\n",
    "\n",
    "    return stats.pearsonr(population_by_region, win_loss_by_region)\n",
    "nba_correlation()"
   ]
  },
  {
   "cell_type": "code",
   "execution_count": null,
   "metadata": {
    "deletable": false,
    "editable": false,
    "nbgrader": {
     "checksum": "bbdeb8eb22f525a34c10dc8798324e42",
     "grade": true,
     "grade_id": "cell-e573b2b4a282b470",
     "locked": true,
     "points": 20,
     "schema_version": 1,
     "solution": false
    }
   },
   "outputs": [],
   "source": [
    "# Result like that\n",
    "-0.17657160252844617"
   ]
  },
  {
   "cell_type": "markdown",
   "metadata": {
    "deletable": false,
    "editable": false,
    "nbgrader": {
     "checksum": "1a1a5809f675ca033086422007cd73bd",
     "grade": false,
     "grade_id": "cell-96e15e4335df78f4",
     "locked": true,
     "schema_version": 1,
     "solution": false
    }
   },
   "source": [
    "## Question 3\n",
    "For this question, calculate the win/loss ratio's correlation with the population of the city it is in for the **MLB** using **2018** data."
   ]
  },
  {
   "cell_type": "code",
   "execution_count": 3,
   "metadata": {},
   "outputs": [
    {
     "name": "stdout",
     "output_type": "stream",
     "text": [
      "(0.15027698302669307, 0.46370703378875583)\n"
     ]
    }
   ],
   "source": [
    "mlb_df=pd.read_csv(\"assets/mlb.csv\")\n",
    "#print(mlb_df.head())\n",
    "cities=pd.read_html(\"assets/wikipedia_data.html\")[1]\n",
    "cities=cities.iloc[:-1,[0,3,5,6,7,8]]\n",
    "cities[\"MLB\"]=cities[\"MLB\"].str.replace(r\"([A-Z])\",r\" \\1\",regex=True)\n",
    "cities[\"MLB\"]=cities[\"MLB\"].str.replace(r\"\\[.+\\]\",\"\",regex=True)\n",
    "citie_mlb=cities[\"MLB\"].str.split().explode()\n",
    "citie_mlb=citie_mlb.to_frame(name=\"namemlb\")\n",
    "citie_mlb=citie_mlb.merge(cities[[\"Metropolitan area\",\"Population (2016 est.)[8]\"]],left_index=True, right_index=True)\n",
    "\n",
    "mlb_wd=mlb_df[mlb_df[\"team\"]!=mlb_df[\"W\"]]\n",
    "mlb_wd=mlb_wd[mlb_wd[\"year\"]==2018]\n",
    "mlb_wd[\"W\"] = mlb_wd[\"W\"].astype(int)\n",
    "mlb_wd[\"L\"] = mlb_wd[\"L\"].astype(int)\n",
    "mlb_wd[\"ratio_mlb\"]=mlb_wd[\"W\"]/(mlb_wd[\"L\"]+mlb_wd[\"W\"])\n",
    "mlb_wd[\"team\"]=mlb_wd[\"team\"].str.replace('*', '',regex=True)\n",
    "mlb_wd[\"namemlb\"]=mlb_wd[\"team\"].str.split().str[-1]\n",
    "\n",
    "mlb_wd=mlb_wd.merge(citie_mlb,on=\"namemlb\",how=\"left\")\n",
    "mlb_wd=mlb_wd.drop([0,10])\n",
    "\n",
    "mlb_wd[\"Population\"]=mlb_wd[\"Population (2016 est.)[8]\"].astype(int)\n",
    "grouped_mlb=mlb_wd.groupby([\"Metropolitan area\"])[\"ratio_mlb\"].mean()\n",
    "grouped_mlb=grouped_mlb.to_frame()\n",
    "grouped_mlb=grouped_mlb.merge(mlb_wd[[\"Population\",\"Metropolitan area\"]],on=\"Metropolitan area\",how=\"left\")\n",
    "grouped_mlb=grouped_mlb.drop_duplicates(subset=\"Metropolitan area\")\n",
    "#print(grouped_mlb)\n",
    "#type(grouped_mlb)\n",
    "print(stats.pearsonr(grouped_mlb[\"ratio_mlb\"],grouped_mlb[\"Population\"]))"
   ]
  },
  {
   "cell_type": "code",
   "execution_count": null,
   "metadata": {
    "nbgrader": {
     "checksum": "27e8c0da6c9fa0dffc10488314335b6c",
     "grade": false,
     "grade_id": "cell-33b00fc3f3467b0c",
     "locked": false,
     "schema_version": 1,
     "solution": true
    }
   },
   "outputs": [],
   "source": [
    "import pandas as pd\n",
    "import numpy as np\n",
    "import scipy.stats as stats\n",
    "import re\n",
    "\n",
    "mlb_df=pd.read_csv(\"assets/mlb.csv\")\n",
    "cities=pd.read_html(\"assets/wikipedia_data.html\")[1]\n",
    "cities=cities.iloc[:-1,[0,3,5,6,7,8]]\n",
    "\n",
    "def mlb_correlation(): \n",
    "    # YOUR CODE HERE\n",
    "    cities[\"MLB\"]=cities[\"MLB\"].str.replace(r\"([A-Z])\",r\" \\1\",regex=True)\n",
    "    cities[\"MLB\"]=cities[\"MLB\"].str.replace(r\"\\[.+\\]\",\"\",regex=True)\n",
    "    citie_mlb=cities[\"MLB\"].str.split().explode()\n",
    "    citie_mlb=citie_mlb.to_frame(name=\"namemlb\")\n",
    "    citie_mlb=citie_mlb.merge(cities[[\"Metropolitan area\",\"Population (2016 est.)[8]\"]],left_index=True, right_index=True)\n",
    "\n",
    "    mlb_wd=mlb_df[mlb_df[\"team\"]!=mlb_df[\"W\"]]\n",
    "    mlb_wd=mlb_wd[mlb_wd[\"year\"]==2018]\n",
    "    mlb_wd[\"W\"] = mlb_wd[\"W\"].astype(int)\n",
    "    mlb_wd[\"L\"] = mlb_wd[\"L\"].astype(int)\n",
    "    mlb_wd[\"ratio_mlb\"]=mlb_wd[\"W\"]/(mlb_wd[\"L\"]+mlb_wd[\"W\"])\n",
    "    mlb_wd[\"team\"]=mlb_wd[\"team\"].str.replace('*', '',regex=True)\n",
    "    mlb_wd[\"namemlb\"]=mlb_wd[\"team\"].str.split().str[-1]\n",
    "\n",
    "    mlb_wd=mlb_wd.merge(citie_mlb,on=\"namemlb\",how=\"left\")\n",
    "    mlb_wd=mlb_wd.drop([0,10])\n",
    "\n",
    "    mlb_wd[\"Population\"]=mlb_wd[\"Population (2016 est.)[8]\"].astype(int)\n",
    "    grouped_mlb=mlb_wd.groupby([\"Metropolitan area\"])[\"ratio_mlb\"].mean()\n",
    "    grouped_mlb=grouped_mlb.to_frame()\n",
    "    grouped_mlb=grouped_mlb.merge(mlb_wd[[\"Population\",\"Metropolitan area\"]],on=\"Metropolitan area\",how=\"left\")\n",
    "    grouped_mlb=grouped_mlb.drop_duplicates(subset=\"Metropolitan area\")\n",
    "    #raise NotImplementedError()\n",
    "    \n",
    "    population_by_region = grouped_mlb[\"Population\"] # pass in metropolitan area population from cities\n",
    "    win_loss_by_region   = grouped_mlb[\"ratio_mlb\"] # pass in win/loss ratio from mlb_df in the same order as cities[\"Metropolitan area\"]\n",
    "\n",
    "    assert len(population_by_region) == len(win_loss_by_region), \"Q3: Your lists must be the same length\"\n",
    "    assert len(population_by_region) == 26, \"Q3: There should be 26 teams being analysed for MLB\"\n",
    "\n",
    "    return stats.pearsonr(population_by_region, win_loss_by_region)\n",
    "mlb_correlation()"
   ]
  },
  {
   "cell_type": "code",
   "execution_count": null,
   "metadata": {
    "deletable": false,
    "editable": false,
    "nbgrader": {
     "checksum": "cda33b094ba19ccc37a481e0dd29e0bc",
     "grade": true,
     "grade_id": "cell-764d4476f425c5a2",
     "locked": true,
     "points": 20,
     "schema_version": 1,
     "solution": false
    }
   },
   "outputs": [],
   "source": [
    "# Result like that\n",
    "0.14213659322560204"
   ]
  },
  {
   "cell_type": "markdown",
   "metadata": {
    "deletable": false,
    "editable": false,
    "nbgrader": {
     "checksum": "6977a6da9ed6d8b7a0b7e37bbeda709b",
     "grade": false,
     "grade_id": "cell-793df6c04dfb126e",
     "locked": true,
     "schema_version": 1,
     "solution": false
    }
   },
   "source": [
    "## Question 4\n",
    "For this question, calculate the win/loss ratio's correlation with the population of the city it is in for the **NFL** using **2018** data."
   ]
  },
  {
   "cell_type": "code",
   "execution_count": 4,
   "metadata": {
    "nbgrader": {
     "checksum": "c4914ad1e119278ec2bd567c52640b66",
     "grade": false,
     "grade_id": "cell-8ccebc209aeec8d9",
     "locked": false,
     "schema_version": 1,
     "solution": true
    }
   },
   "outputs": [
    {
     "data": {
      "text/plain": [
       "(0.004922112149349409, 0.9797833458363694)"
      ]
     },
     "execution_count": 4,
     "metadata": {},
     "output_type": "execute_result"
    }
   ],
   "source": [
    "import pandas as pd\n",
    "import numpy as np\n",
    "import scipy.stats as stats\n",
    "import re\n",
    "\n",
    "nfl=pd.read_csv(\"assets/nfl.csv\")\n",
    "cities=pd.read_html(\"assets/wikipedia_data.html\")[1]\n",
    "cities=cities.iloc[:-1,[0,3,5,6,7,8]]\n",
    "\n",
    "def nfl_correlation(): \n",
    "    # YOUR CODE HERE\n",
    "    cities[\"NFL\"]=cities[\"NFL\"].str.replace(r\"([A-Z])\",r\" \\1\",regex=True)\n",
    "    cities[\"NFL\"]=cities[\"NFL\"].str.replace(r\"\\[.+\\]\",\"\",regex=True)\n",
    "    citie_nfl=cities[\"NFL\"].str.split().explode()\n",
    "    citie_nfl=citie_nfl.to_frame(name=\"namenfl\")\n",
    "    citie_nfl=citie_nfl.merge(cities[[\"Metropolitan area\",\"Population (2016 est.)[8]\"]],left_index=True, right_index=True)\n",
    "    nfl_wd=nfl[nfl[\"team\"]!=nfl[\"W\"]]\n",
    "    nfl_wd=nfl_wd[nfl_wd[\"year\"]==2018]\n",
    "    nfl_wd[\"W\"] = nfl_wd[\"W\"].astype(int)\n",
    "    nfl_wd[\"L\"] = nfl_wd[\"L\"].astype(int)\n",
    "    nfl_wd[\"ratio_nfl\"]=nfl_wd[\"W\"]/(nfl_wd[\"L\"]+nfl_wd[\"W\"])\n",
    "    nfl_wd[\"team\"]=nfl_wd[\"team\"].str.replace('*', '',regex=True)\n",
    "    nfl_wd[\"team\"]=nfl_wd[\"team\"].str.replace('+', '',regex=True)\n",
    "    nfl_wd[\"namenfl\"]=nfl_wd[\"team\"].str.split().str[-1]\n",
    "    nfl_wd=nfl_wd.merge(citie_nfl,on=\"namenfl\",how=\"left\")\n",
    "    nfl_wd=nfl_wd.sort_values(\"namenfl\")\n",
    "    \n",
    "    nfl_wd[\"Population\"]=nfl_wd[\"Population (2016 est.)[8]\"].astype(int)\n",
    "    grouped_nfl=nfl_wd.groupby([\"Metropolitan area\"])[\"ratio_nfl\"].mean()\n",
    "    grouped_nfl=grouped_nfl.to_frame()\n",
    "    grouped_nfl=grouped_nfl.merge(nfl_wd[[\"Population\",\"Metropolitan area\"]],on=\"Metropolitan area\",how=\"left\")\n",
    "    grouped_nfl=grouped_nfl.drop_duplicates(subset=\"Metropolitan area\")\n",
    "    #raise NotImplementedError()\n",
    "    \n",
    "    population_by_region = grouped_nfl[\"Population\"] # pass in metropolitan area population from cities\n",
    "    win_loss_by_region = grouped_nfl[\"ratio_nfl\"] # pass in win/loss ratio from nfl_df in the same order as cities[\"Metropolitan area\"]\n",
    "    \n",
    "    assert len(population_by_region) == len(win_loss_by_region), \"Q4: Your lists must be the same length\"\n",
    "    assert len(population_by_region) == 29, \"Q4: There should be 29 teams being analysed for NFL\"\n",
    "    \n",
    "    return stats.pearsonr(population_by_region, win_loss_by_region)\n",
    "nfl_correlation()"
   ]
  },
  {
   "cell_type": "code",
   "execution_count": null,
   "metadata": {
    "deletable": false,
    "editable": false,
    "nbgrader": {
     "checksum": "e9415d6399aa49e3a1a60813afdefa3b",
     "grade": true,
     "grade_id": "cell-de7b148b9554dbda",
     "locked": true,
     "points": 20,
     "schema_version": 1,
     "solution": false
    }
   },
   "outputs": [],
   "source": [
    "# Result like that\n",
    "(0.00894077067749839, 0.9632859803293105)"
   ]
  },
  {
   "cell_type": "markdown",
   "metadata": {
    "deletable": false,
    "editable": false,
    "nbgrader": {
     "checksum": "b02d5cd3273f561e4ae939bb2a41740c",
     "grade": false,
     "grade_id": "cell-97b49d8639e908c4",
     "locked": true,
     "schema_version": 1,
     "solution": false
    }
   },
   "source": [
    "## Question 5\n",
    "In this question I would like you to explore the hypothesis that **given that an area has two sports teams in different sports, those teams will perform the same within their respective sports**. How I would like to see this explored is with a series of paired t-tests (so use [`ttest_rel`](https://docs.scipy.org/doc/scipy/reference/generated/scipy.stats.ttest_rel.html)) between all pairs of sports. Are there any sports where we can reject the null hypothesis? Again, average values where a sport has multiple teams in one region. Remember, you will only be including, for each sport, cities which have teams engaged in that sport, drop others as appropriate. This question is worth 20% of the grade for this assignment."
   ]
  },
  {
   "cell_type": "code",
   "execution_count": null,
   "metadata": {
    "nbgrader": {
     "checksum": "6d78c961eb66f8d8c81f06d33ae8f393",
     "grade": false,
     "grade_id": "cell-92f25f44b8d1179f",
     "locked": false,
     "schema_version": 1,
     "solution": true
    }
   },
   "outputs": [],
   "source": [
    "import pandas as pd\n",
    "import numpy as np\n",
    "import scipy.stats as stats\n",
    "import re\n",
    "\n",
    "mlb=pd.read_csv(\"assets/mlb.csv\")\n",
    "nhl=pd.read_csv(\"assets/nhl.csv\")\n",
    "nba=pd.read_csv(\"assets/nba.csv\")\n",
    "nfl=pd.read_csv(\"assets/nfl.csv\")\n",
    "cities=pd.read_html(\"assets/wikipedia_data.html\")[1]\n",
    "cities=cities.iloc[:-1,[0,3,5,6,7,8]]\n",
    "\n",
    "cities[\"NHL\"]=cities[\"NHL\"].str.replace(r\"([A-Z])\",r\" \\1\",regex=True)\n",
    "cities[\"NHL\"]=cities[\"NHL\"].str.replace(r\"\\[.+\\]\",\"\",regex=True)\n",
    "citie_nhl=cities[\"NHL\"].str.split().explode()    \n",
    "citie_nhl=citie_nhl.to_frame(name=\"namenhl\")\n",
    "citie_nhl=citie_nhl.merge(cities[[\"Metropolitan area\",\"Population (2016 est.)[8]\"]],left_index=True, right_index=True)\n",
    "nhl_wd=nhl[nhl[\"team\"]!=nhl[\"GP\"]]\n",
    "nhl_wd=nhl_wd[nhl_wd[\"year\"]==2018]\n",
    "nhl_wd[\"W\"] = nhl_wd[\"W\"].astype(int)\n",
    "nhl_wd[\"L\"] = nhl_wd[\"L\"].astype(int)\n",
    "nhl_wd[\"ratio_nhl\"]=nhl_wd[\"W\"]/(nhl_wd[\"L\"]+nhl_wd[\"W\"])\n",
    "nhl_wd[\"team\"]=nhl_wd[\"team\"].str.replace('*', '',regex=True)\n",
    "nhl_wd[\"namenhl\"]=nhl_wd[\"team\"].str.split().str[-1]\n",
    "nhl_wd=nhl_wd.merge(citie_nhl,on=\"namenhl\",how=\"left\")\n",
    "nhl_wd=nhl_wd.sort_values(\"Metropolitan area\")\n",
    "nhl_wd[\"Population\"]=nhl_wd[\"Population (2016 est.)[8]\"].astype(int)\n",
    "grouped_nhl=nhl_wd.groupby([\"Metropolitan area\"])[\"ratio_nhl\"].mean()\n",
    "grouped_nhl=grouped_nhl.to_frame()\n",
    "grouped_nhl=grouped_nhl.merge(nhl_wd[[\"Population\",\"Metropolitan area\"]],on=\"Metropolitan area\",how=\"left\")\n",
    "grouped_nhl=grouped_nhl.drop_duplicates(subset=\"Metropolitan area\")\n",
    "\n",
    "cities[\"NBA\"]=cities[\"NBA\"].str.replace(r\"([A-Z])\",r\" \\1\",regex=True)\n",
    "cities[\"NBA\"]=cities[\"NBA\"].str.replace(r\"\\[.+\\]\",\"\",regex=True)\n",
    "citie=cities[\"NBA\"].str.split().explode()\n",
    "citie=citie.to_frame(name=\"nba_team\")\n",
    "citie=citie.merge(cities[[\"Metropolitan area\",\"Population (2016 est.)[8]\"]],left_index=True, right_index=True)\n",
    "nba_wd=nba[nba[\"team\"]!=nba[\"GB\"]]\n",
    "nba_wd=nba_wd[nba_wd[\"year\"]==2018]\n",
    "nba_wd[\"W\"] = nba_wd[\"W\"].astype(int)\n",
    "nba_wd[\"L\"] = nba_wd[\"L\"].astype(int)\n",
    "nba_wd[\"ratio_nba\"]=nba_wd[\"W\"]/(nba_wd[\"L\"]+nba_wd[\"W\"])\n",
    "nba_wd[\"team\"]=nba_wd[\"team\"].str.replace('*', '',regex=True)\n",
    "nba_wd[\"team\"]=nba_wd[\"team\"].str.replace(r\"\\(.*\\)\", \"\",regex=True)\n",
    "nba_wd[\"nba_team\"]=nba_wd[\"team\"].str.split().str[-1]\n",
    "nba_wd=nba_wd.merge(citie,on=\"nba_team\",how=\"left\")\n",
    "nba_wd[\"Population\"]=nba_wd[\"Population (2016 est.)[8]\"].astype(float)\n",
    "grouped_nba=nba_wd.groupby([\"Metropolitan area\"])[\"ratio_nba\"].mean()\n",
    "grouped_nba=grouped_nba.to_frame()\n",
    "grouped_nba=grouped_nba.merge(nba_wd[[\"Population\",\"Metropolitan area\"]],on=\"Metropolitan area\",how=\"left\")\n",
    "grouped_nba=grouped_nba.drop_duplicates(subset=\"Metropolitan area\")\n",
    "\n",
    "cities[\"MLB\"]=cities[\"MLB\"].str.replace(r\"([A-Z])\",r\" \\1\",regex=True)\n",
    "cities[\"MLB\"]=cities[\"MLB\"].str.replace(r\"\\[.+\\]\",\"\",regex=True)\n",
    "citie_mlb=cities[\"MLB\"].str.split().explode()\n",
    "citie_mlb=citie_mlb.to_frame(name=\"namemlb\")\n",
    "citie_mlb=citie_mlb.merge(cities[[\"Metropolitan area\",\"Population (2016 est.)[8]\"]],left_index=True, right_index=True)\n",
    "mlb_wd=mlb_df[mlb_df[\"team\"]!=mlb_df[\"W\"]]\n",
    "mlb_wd=mlb_wd[mlb_wd[\"year\"]==2018]\n",
    "mlb_wd[\"W\"] = mlb_wd[\"W\"].astype(int)\n",
    "mlb_wd[\"L\"] = mlb_wd[\"L\"].astype(int)\n",
    "mlb_wd[\"ratio_mlb\"]=mlb_wd[\"W\"]/(mlb_wd[\"L\"]+mlb_wd[\"W\"])\n",
    "mlb_wd[\"team\"]=mlb_wd[\"team\"].str.replace('*', '',regex=True)\n",
    "mlb_wd[\"namemlb\"]=mlb_wd[\"team\"].str.split().str[-1]\n",
    "mlb_wd=mlb_wd.merge(citie_mlb,on=\"namemlb\",how=\"left\")\n",
    "mlb_wd=mlb_wd.drop([0,10])\n",
    "mlb_wd[\"Population\"]=mlb_wd[\"Population (2016 est.)[8]\"].astype(int)\n",
    "grouped_mlb=mlb_wd.groupby([\"Metropolitan area\"])[\"ratio_mlb\"].mean()\n",
    "grouped_mlb=grouped_mlb.to_frame()\n",
    "grouped_mlb=grouped_mlb.merge(mlb_wd[[\"Population\",\"Metropolitan area\"]],on=\"Metropolitan area\",how=\"left\")\n",
    "grouped_mlb=grouped_mlb.drop_duplicates(subset=\"Metropolitan area\")\n",
    "\n",
    "cities[\"NFL\"]=cities[\"NFL\"].str.replace(r\"([A-Z])\",r\" \\1\",regex=True)\n",
    "cities[\"NFL\"]=cities[\"NFL\"].str.replace(r\"\\[.+\\]\",\"\",regex=True)\n",
    "citie_nfl=cities[\"NFL\"].str.split().explode()\n",
    "citie_nfl=citie_nfl.to_frame(name=\"namenfl\")\n",
    "citie_nfl=citie_nfl.merge(cities[[\"Metropolitan area\",\"Population (2016 est.)[8]\"]],left_index=True, right_index=True)\n",
    "nfl_wd=nfl[nfl[\"team\"]!=nfl[\"W\"]]\n",
    "nfl_wd=nfl_wd[nfl_wd[\"year\"]==2018]\n",
    "nfl_wd[\"W\"] = nfl_wd[\"W\"].astype(int)\n",
    "nfl_wd[\"L\"] = nfl_wd[\"L\"].astype(int)\n",
    "nfl_wd[\"ratio_nfl\"]=nfl_wd[\"W\"]/(nfl_wd[\"L\"]+nfl_wd[\"W\"])\n",
    "nfl_wd[\"team\"]=nfl_wd[\"team\"].str.replace('*', '',regex=True)\n",
    "nfl_wd[\"team\"]=nfl_wd[\"team\"].str.replace('+', '',regex=True)\n",
    "nfl_wd[\"namenfl\"]=nfl_wd[\"team\"].str.split().str[-1]\n",
    "nfl_wd=nfl_wd.merge(citie_nfl,on=\"namenfl\",how=\"left\")\n",
    "nfl_wd=nfl_wd.sort_values(\"namenfl\") \n",
    "nfl_wd[\"Population\"]=nfl_wd[\"Population (2016 est.)[8]\"].astype(int)\n",
    "grouped_nfl=nfl_wd.groupby([\"Metropolitan area\"])[\"ratio_nfl\"].mean()\n",
    "grouped_nfl=grouped_nfl.to_frame()\n",
    "grouped_nfl=grouped_nfl.merge(nfl_wd[[\"Population\",\"Metropolitan area\"]],on=\"Metropolitan area\",how=\"left\")\n",
    "grouped_nfl=grouped_nfl.drop_duplicates(subset=\"Metropolitan area\")\n",
    "\n",
    "def sports_team_performance():\n",
    "    # YOUR CODE HERE\n",
    "    grouped_all=grouped_nhl.merge(grouped_nba,on=\"Metropolitan area\",how=\"outer\")\n",
    "    grouped_all=grouped_all.merge(grouped_mlb,on=\"Metropolitan area\",how=\"outer\")\n",
    "    grouped_all=grouped_all.merge(grouped_nfl,on=\"Metropolitan area\",how=\"outer\")\n",
    "    grouped_all=grouped_all.drop(columns=[\"Population_x\",\"Population_y\"],axis=1)\n",
    "    grouped_all=grouped_all.drop(columns=\"Metropolitan area\",axis=1)\n",
    "    grouped_all.columns = ['NHL', 'NBA', 'MLB', 'NFL']\n",
    "    print(grouped_all)\n",
    "    pvs=pd.DataFrame(columns=grouped_all.columns,index=grouped_all.columns)\n",
    "    \n",
    "    for i in range(0,4):\n",
    "        df=grouped_all\n",
    "        for j in range(0,4):\n",
    "            df_ij=df.iloc[:,[i,j]]\n",
    "            df_ij=df_ij.dropna()\n",
    "            pvs.iloc[i,j]=stats.ttest_rel(df_ij.iloc[:,0],df_ij.iloc[:,1])[1]\n",
    "            \n",
    "    p_values=pvs\n",
    "    \n",
    "    #raise NotImplementedError()\n",
    "    \n",
    "    # Note: p_values is a full dataframe, so df.loc[\"NFL\",\"NBA\"] should be the same as df.loc[\"NBA\",\"NFL\"] and\n",
    "    # df.loc[\"NFL\",\"NFL\"] should return np.nan\n",
    "    #sports = ['NFL', 'NBA', 'NHL', 'MLB']\n",
    "    #p_values = pd.DataFrame({k:np.nan for k in sports}, index=sports)\n",
    "    \n",
    "    assert abs(p_values.loc[\"NBA\", \"NHL\"] - 0.02) <= 1e-2, \"The NBA-NHL p-value should be around 0.02\"\n",
    "    assert abs(p_values.loc[\"MLB\", \"NFL\"] - 0.80) <= 1e-2, \"The MLB-NFL p-value should be around 0.80\"\n",
    "    return p_values\n",
    "sports_team_performance()"
   ]
  },
  {
   "cell_type": "code",
   "execution_count": null,
   "metadata": {
    "deletable": false,
    "editable": false
   },
   "outputs": [],
   "source": [
    "# Result like that\n",
    "import pandas as pd\n",
    "result=pd.read_csv('result.csv',index_col='Unnamed: 0')\n",
    "result"
   ]
  },
  {
   "cell_type": "code",
   "execution_count": null,
   "metadata": {},
   "outputs": [],
   "source": []
  }
 ],
 "metadata": {
  "coursera": {
   "schema_names": [
    "mooc_adswpy_1_v2_assignment4"
   ]
  },
  "hide_input": false,
  "kernelspec": {
   "display_name": "Python 3 (ipykernel)",
   "language": "python",
   "name": "python3"
  },
  "language_info": {
   "codemirror_mode": {
    "name": "ipython",
    "version": 3
   },
   "file_extension": ".py",
   "mimetype": "text/x-python",
   "name": "python",
   "nbconvert_exporter": "python",
   "pygments_lexer": "ipython3",
   "version": "3.9.12"
  },
  "toc": {
   "base_numbering": 1,
   "nav_menu": {},
   "number_sections": true,
   "sideBar": true,
   "skip_h1_title": false,
   "title_cell": "Table of Contents",
   "title_sidebar": "Contents",
   "toc_cell": false,
   "toc_position": {},
   "toc_section_display": true,
   "toc_window_display": false
  },
  "varInspector": {
   "cols": {
    "lenName": 16,
    "lenType": 16,
    "lenVar": 40
   },
   "kernels_config": {
    "python": {
     "delete_cmd_postfix": "",
     "delete_cmd_prefix": "del ",
     "library": "var_list.py",
     "varRefreshCmd": "print(var_dic_list())"
    },
    "r": {
     "delete_cmd_postfix": ") ",
     "delete_cmd_prefix": "rm(",
     "library": "var_list.r",
     "varRefreshCmd": "cat(var_dic_list()) "
    }
   },
   "types_to_exclude": [
    "module",
    "function",
    "builtin_function_or_method",
    "instance",
    "_Feature"
   ],
   "window_display": false
  }
 },
 "nbformat": 4,
 "nbformat_minor": 4
}
